{
 "cells": [
  {
   "cell_type": "code",
   "execution_count": 6,
   "metadata": {},
   "outputs": [],
   "source": [
    "import librosa\n",
    "import numpy as np\n",
    "from scipy.signal import get_window \n",
    "\n",
    "import code_exercise2\n",
    "from my_windowing import my_windowing\n",
    "\n",
    "wave_files = [\n",
    "    \"Audio/phone.wav\",\n",
    "    \"Audio/speech1.wav\"\n",
    "]"
   ]
  },
  {
   "cell_type": "code",
   "execution_count": 11,
   "metadata": {},
   "outputs": [],
   "source": [
    "def compute_stft(\n",
    "        v_signal: np.ndarray, \n",
    "        fs: int, \n",
    "        frame_length: int, \n",
    "        frame_shift: int, \n",
    "        v_analysis_window: np.ndarray) : #-> [np.ndarray (m_stft), np.ndarray (v_freq), np.ndarray (v_time)]:\n",
    "    \"\"\"\n",
    "    The input and output parameters are defined as follows:\n",
    "    - v_signal vector containing the time domain signal\n",
    "    - fs sampling rate in Hz\n",
    "    - frame_length frame length in milliseconds\n",
    "    - frame_shift frame shift in milliseconds\n",
    "    - v_analysis_window vector that contains the spectral analysis window (This vector should have the same length as the frames, i.e., frame_length in samples.)\n",
    "    - m_stft a matrix which stores the complex short-time spectra in each row\n",
    "    - v_freq a vector which contains the frequency axis (in units of Hertz) corresponding to the computed spectra\n",
    "    - v_time time steps around which a frame is centered (as in previous exercise)\n",
    "    \"\"\"\n",
    "    samples_per_frame = int(fs * frame_length / 1000)\n",
    "    samples_per_shift = int(fs * frame_shift / 1000)\n",
    "\n",
    "    if len(v_analysis_window) != samples_per_frame:\n",
    "        raise ValueError(\"v_analysis_window invalid length\")\n",
    "    \n",
    "    m_frames, v_time_frames = my_windowing(v_signal, fs, frame_length, frame_shift)\n",
    "    m_frames = m_frames * v_analysis_window\n",
    "\n",
    "    dft = np.fft.fft(m_frames, axis=1)\n",
    "\n",
    "\n",
    "    return None\n",
    "\n",
    "\n",
    "y, sr = librosa.load(wave_files[0], sr=None)\n",
    "\n",
    "samples_per_frame = int(sr * 32 / 1000)\n",
    "v_analysis_window = get_window(\"hann\", samples_per_frame, True)\n",
    "\n",
    "\n",
    "compute_stft(y, sr, 32, 8, v_analysis_window)\n"
   ]
  },
  {
   "cell_type": "code",
   "execution_count": 10,
   "metadata": {},
   "outputs": [],
   "source": [
    "\n"
   ]
  }
 ],
 "metadata": {
  "kernelspec": {
   "display_name": ".venv",
   "language": "python",
   "name": "python3"
  },
  "language_info": {
   "codemirror_mode": {
    "name": "ipython",
    "version": 3
   },
   "file_extension": ".py",
   "mimetype": "text/x-python",
   "name": "python",
   "nbconvert_exporter": "python",
   "pygments_lexer": "ipython3",
   "version": "3.10.12"
  }
 },
 "nbformat": 4,
 "nbformat_minor": 2
}
