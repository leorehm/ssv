{
 "cells": [
  {
   "cell_type": "code",
   "execution_count": null,
   "metadata": {
    "vscode": {
     "languageId": "plaintext"
    }
   },
   "outputs": [],
   "source": [
    "import librosa\n",
    "import numpy as np\n",
    "import matplotlib.pyplot as plt"
   ]
  },
  {
   "cell_type": "markdown",
   "metadata": {},
   "source": [
    "**1 Noise Power Estimation**\n",
    "In this part of the exercise, the noise power is estimated based on the speech presence probability. First, use\n",
    "your functions from the second exercise to create the STFT of the noisy input signals. The frame length should\n",
    "be 32 ms and the frame shift 16 ms. Use a √Hann-window as analysis window. From the STFT, compute the\n",
    "periodograms and determine the noise PSD by performing the following steps for each frame.\n",
    "\n",
    "Look at sheet for three steps. (Complicated formulas)"
   ]
  },
  {
   "cell_type": "code",
   "execution_count": null,
   "metadata": {
    "vscode": {
     "languageId": "plaintext"
    }
   },
   "outputs": [],
   "source": []
  },
  {
   "cell_type": "markdown",
   "metadata": {},
   "source": [
    "**Questions**\n",
    "\n",
    "1.1 In equation (1), (3) and (4) the noise power estimate from the previous frame, ˆσ2n[k,` −1], is required.\n",
    "However, there is none available for the first frame ` = 0. The same problem occurs for the smoothed speech\n",
    "presence probability Q[k,`] in (2).\n",
    "\n",
    "- What would be appropriate initializations for the first noise estimate ˆσ2n[k,−1] and the smoothed\n",
    "posterior probability Q[k,−1]? Explain briefly why you chose your initialization method.\n",
    "\n",
    "1.2 Plot the speech presence probability P(H1|Y [k,`]) using plt.imshow.\n",
    "\n",
    "a) Which values do you obtain for time-frequency points where speech is present?\n",
    "\n",
    "b) What values do you get for time-frequency points where only noise is present?\n",
    "\n",
    "c) If you compare the speech presence probability with the spectrogram of your input signal, can you see\n",
    "similarities?\n",
    "\n",
    "1.3 Plot the estimated noise PSD as a spectrogram using plt.imshow.\n",
    "\n",
    "a) How well is the background noise estimated?\n",
    "\n",
    "b) Can you observe errors (e. g. components that do not belong to the background noise)?\n",
    "\n",
    "c) What would be the consequence of such errors?"
   ]
  },
  {
   "cell_type": "markdown",
   "metadata": {},
   "source": [
    "**2 A priori SNR estimation and Wiener Filtering**\n",
    "\n",
    "Perform the steps in equations (5) – (7) for every frame of your input signal and store all enhanced speech\n",
    "spectra ˆS[k,`] in a matrix, e. g. m_enhanced_stft. (Look at sheet for the steps)"
   ]
  },
  {
   "cell_type": "code",
   "execution_count": null,
   "metadata": {
    "vscode": {
     "languageId": "plaintext"
    }
   },
   "outputs": [],
   "source": []
  },
  {
   "cell_type": "markdown",
   "metadata": {},
   "source": [
    "*Questions*\n",
    "\n",
    "2.1 In equation (5), the issue from Section 1 occurs again. An initialization for ˆS[k,`] is required for the first\n",
    "frame.\n",
    "\n",
    "*What would be a reasonable choice in this case?*\n",
    "\n",
    "2.2 Set α = 0.5 and Gmin = 0. Plot the magnitude spectrogram of the noisy speech signal and the enhanced\n",
    "speech signal in dB and compare both. Make sure, that the color bar for both plots is the same. This can\n",
    "be achieved by manually setting the vmin and vmax parameters of plt.imshow.\n",
    "\n",
    "a) How does the clean spectrogram differ from the spectrogram of the noisy input signal?\n",
    "\n",
    "b) Can you see artifacts in the spectrogram of the enhanced signal?"
   ]
  },
  {
   "cell_type": "markdown",
   "metadata": {},
   "source": [
    "**3 Parameter tuning**\n",
    "\n",
    "Use the compute_istft function to synthesize the enhanced speech signal. For this, employ the same frame shift\n",
    "and FFT length as in Section 1. Further, use the √Hann-window also for the synthesis.\n",
    "\n",
    "Listen to the noisy signal and the enhanced signal. For this you could use the play function from sounddevice."
   ]
  },
  {
   "cell_type": "code",
   "execution_count": null,
   "metadata": {
    "vscode": {
     "languageId": "plaintext"
    }
   },
   "outputs": [],
   "source": []
  },
  {
   "cell_type": "markdown",
   "metadata": {},
   "source": [
    "*Questions*\n",
    "\n",
    "3.1 Compare the noisy and the enhanced signal with each other.\n",
    "\n",
    "a) How well is the background noise suppressed?\n",
    "\n",
    "b) Can you hear any distortions of the speech signal in the enhanced signal?\n",
    "\n",
    "c) What artifacts can you hear?\n",
    "\n",
    "3.2 Vary α between 0 and 1 and listen to the synthesized signals.\n",
    "\n",
    "a) What differences can you perceive?\n",
    "\n",
    "b) How do the artifacts, speech signal and noise suppression change?\n",
    "\n",
    "c) What is your favorite setting? Explain why.\n",
    "\n",
    "d) Are the differences you heard also visible in the spectrogram of the enhanced speech signal?\n",
    "\n",
    "3.3 Try different values for Gmin which can be varied between 0 and 1, i. e. between −∞ dB and 0 dB. Listen\n",
    "again to the synthesized signals.\n",
    "\n",
    "a) What differences can be perceived now?\n",
    "\n",
    "b) How does this parameter affect the artifacts, speech signal and noise suppression and what would be\n",
    "your favorite setting this time? Again, explain why.\n",
    "\n",
    "c) How do the spectrograms change in this case?\n",
    "\n",
    "In your report, include some spectrograms that support your reasoning for your choice of the parameters α and\n",
    "Gmin.\n"
   ]
  }
 ],
 "metadata": {
  "kernelspec": {
   "display_name": ".venv",
   "language": "python",
   "name": "python3"
  },
  "language_info": {
   "codemirror_mode": {
    "name": "ipython",
    "version": 3
   },
   "file_extension": ".py",
   "mimetype": "text/x-python",
   "name": "python",
   "nbconvert_exporter": "python",
   "pygments_lexer": "ipython3",
   "version": "3.9.0"
  }
 },
 "nbformat": 4,
 "nbformat_minor": 2
}
